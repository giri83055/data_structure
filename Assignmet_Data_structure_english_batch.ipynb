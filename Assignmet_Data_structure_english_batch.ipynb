{
 "cells": [
  {
   "cell_type": "markdown",
   "metadata": {},
   "source": [
    "          Data Type and Structure Question"
   ]
  },
  {
   "cell_type": "markdown",
   "metadata": {},
   "source": [
    "Q.1 What are data structures, and why are they important.\n",
    "\n",
    "\n",
    "Data structures are ways to organize and store data in a computer so that it can be efficiently accessed, modified, and manipulated. They provide a framework for managing large amounts of data, enabling efficient algorithms and programs to be developed.\n",
    "\n",
    "importance of data structure\n",
    "\n",
    "1.efficint data access\n",
    "\n",
    "2.scalability\n",
    "\n",
    "3.problem-solving"
   ]
  },
  {
   "cell_type": "markdown",
   "metadata": {},
   "source": [
    "Q.2 Explain the difference between mutable and immutable data types with examples.\n",
    "\n",
    "Mutable data type:-Mutable data types are those that can be modified after creation. They can be changed in-place, meaning that the original value is altered.\n",
    "\n",
    "1.lists\n",
    "\n",
    "2.dictionary\n",
    "\n",
    "3.set\n",
    "\n"
   ]
  },
  {
   "cell_type": "code",
   "execution_count": null,
   "metadata": {},
   "outputs": [
    {
     "name": "stdout",
     "output_type": "stream",
     "text": [
      "[1, 2, 3, 4, 6]\n"
     ]
    }
   ],
   "source": [
    "#example of mutable\n",
    "list=[1,2,3,4]\n",
    "list.append(6)\n",
    "print(list)"
   ]
  },
  {
   "cell_type": "markdown",
   "metadata": {},
   "source": [
    "Immutable Data type:-Immutable data types are those that cannot be modified after creation. Any attempt to modify them will result in a new object being created.\n",
    "\n",
    "1.string\n",
    "\n",
    "2.tuple\n",
    "\n",
    "\n"
   ]
  },
  {
   "cell_type": "code",
   "execution_count": 2,
   "metadata": {},
   "outputs": [
    {
     "name": "stdout",
     "output_type": "stream",
     "text": [
      "helloworld\n"
     ]
    }
   ],
   "source": [
    "#example of immutable\n",
    "str=\"hello\"\n",
    "str+=\"world\"\n",
    "print(str)"
   ]
  },
  {
   "cell_type": "markdown",
   "metadata": {},
   "source": [
    "Q.3 What are the main differences between lists and tuples in Python.\n",
    "\n",
    "In Python, lists and tuples are two fundamental data structures that can store multiple values. While they share some similarities, there are key differences between them.\n",
    "\n",
    "1.tuple are immutable while list are mutable .\n",
    "\n",
    "2.tuple are diffine as parentheses () and list are diffine by bracets[].\n",
    "\n",
    "3. Tuples are generally faster and more memory-efficient than lists, especially for large datasets.\n",
    "\n"
   ]
  },
  {
   "cell_type": "markdown",
   "metadata": {},
   "source": [
    "Q.4 Describe how dictionaries store data.\n",
    "\n",
    "In Python, dictionaries (also known as associative arrays or hash tables) store data as a collection of key-value pairs. Each key is unique and maps to a specific value.\n",
    "\n",
    "key value pair:\n",
    "\n",
    ". Keys are unique strings (or immutable types) that identify a particular value.\n",
    "\n",
    ". Values can be any data type, including strings, integers, floats, lists, dictionaries, and more.\n",
    "\n",
    "\n",
    "\n"
   ]
  },
  {
   "cell_type": "code",
   "execution_count": 3,
   "metadata": {},
   "outputs": [
    {
     "name": "stdout",
     "output_type": "stream",
     "text": [
      "{'name': 'John', 'age': 30}\n"
     ]
    }
   ],
   "source": [
    "person = {\"name\": \"John\", \"age\": 30}\n",
    "print(person)"
   ]
  },
  {
   "cell_type": "markdown",
   "metadata": {},
   "source": [
    "Q.5 Why might you use a set instead of a list in Python.\n",
    "\n",
    "1. Uniqueness: Sets automatically eliminate duplicate values, ensuring that each element is unique. Lists, on the other hand, allow duplicates.\n",
    "\n",
    "2. Efficient Intersection, Union, and Difference Operations: Sets support efficient intersection, union, and difference operations using operators like &, |, and -. These operations are more complex and less efficient with lists.\n",
    "\n",
    "3. Improved Memory Efficiency: Sets can be more memory-efficient than lists, especially when dealing with large datasets.\n",
    "\n",
    "\n"
   ]
  },
  {
   "cell_type": "markdown",
   "metadata": {},
   "source": [
    "Q.6 What is a string in Python, and how is it different from a list.\n",
    "\n",
    "String:-A string is a sequence of characters, such as letters, numbers, or symbols, enclosed in quotes (single, double, or triple). Strings are immutable, meaning their contents cannot be modified after creation.\n",
    "\n",
    "Key diffrence of string and list\n",
    "\n",
    "1.string are immutable while list are mutable.\n",
    "\n",
    "2.String can only contain character ,while list contain any data type.\n",
    "\n",
    "3. Both strings and lists support slicing, but strings are limited to extracting substrings, while lists can extract any subset of elements.\n"
   ]
  },
  {
   "cell_type": "code",
   "execution_count": 5,
   "metadata": {},
   "outputs": [
    {
     "name": "stdout",
     "output_type": "stream",
     "text": [
      "hello world\n",
      "world\n"
     ]
    }
   ],
   "source": [
    "#string\n",
    "str=\"hello world\"\n",
    "print(str)\n",
    "print(str[6:])"
   ]
  },
  {
   "cell_type": "markdown",
   "metadata": {},
   "source": [
    "Q.7How do tuples ensure data integrity in Python.\n",
    "\n",
    "In Python, tuples are immutable data structures that store a collection of values. Their immutability ensures data integrity in several ways:\n",
    "\n",
    "1.immutable by Design\n",
    "\n",
    "2.protection from unintentional changes\n",
    "\n",
    "3.thread Safety\n",
    "\n",
    "4.code readability and maintaninbility"
   ]
  },
  {
   "cell_type": "markdown",
   "metadata": {},
   "source": [
    "Q.8 What is a hash table, and how does it relate to dictionaries in Python.\n",
    "\n",
    "A hash table is a data structure that stores key-value pairs in an array using a hash function to map keys to indices. In Python, dictionaries are implemented using hash tables.\n",
    "\n",
    "Relationship to Dictionaries:\n",
    "\n",
    "1. Dictionary Implementation: Python dictionaries are implemented using hash tables.\n",
    "\n",
    "2. Key-Value Pairs: Dictionaries store data as key-value pairs, just like hash tables.\n",
    "\n",
    "3. Fast Lookups: Hash tables enable fast lookups, insertions, and deletions in dictionaries.\n",
    "\n",
    "\n"
   ]
  },
  {
   "cell_type": "markdown",
   "metadata": {},
   "source": [
    "Q.9 Can lists contain different data types in Python.\n",
    "\n",
    "Yes, lists in Python can contain different data types. This is one of the key features of Python lists, making them a flexible and powerful data structure.\n",
    "\n"
   ]
  },
  {
   "cell_type": "code",
   "execution_count": 6,
   "metadata": {},
   "outputs": [
    {
     "name": "stdout",
     "output_type": "stream",
     "text": [
      "[1, 'hello', 3.14, True, [1, 2, 3], {'name': 'John'}]\n"
     ]
    }
   ],
   "source": [
    "my_list = [1, \"hello\", 3.14, True, [1, 2, 3], {\"name\": \"John\"}]\n",
    "print(my_list)"
   ]
  },
  {
   "cell_type": "markdown",
   "metadata": {},
   "source": [
    "Q.10 Explain why strings are immutable in Python.\n",
    "\n",
    "1. Thread Safety: Immutable strings are thread-safe, meaning multiple threads can access and manipulate the same string without fear of data corruption.\n",
    "\n",
    "2. Hashability: Immutable strings can be hashed, which enables their use as dictionary keys and in other hash-based data structures.\n",
    "\n",
    "3. Security: Immutable strings reduce the risk of buffer overflow attacks and other security vulnerabilities that can occur when modifying mutable strings.\n",
    "\n",
    "4. Performance: Immutable strings can be optimized for performance, as the Python interpreter can cache and reuse immutable string objects.\n",
    "\n",
    "\n",
    "\n"
   ]
  },
  {
   "cell_type": "markdown",
   "metadata": {},
   "source": [
    "Q.11 What advantages do dictionaries offer over lists for certain tasks.\n",
    "\n",
    "1. Fast Lookups\n",
    "-Dictionaries provide fast lookups, with an average time complexity of O(1), making them ideal for tasks that require frequent data retrieval.\n",
    "\n",
    "2. Key-Value Pairs\n",
    "-Dictionaries store data as key-value pairs, allowing for efficient data organization and retrieval. This is particularly useful when working with data that has a natural key-value structure.\n",
    "\n",
    "3. Efficient Insertion and Deletion\n",
    "-Dictionaries provide efficient insertion and deletion operations, with an average time complexity of O(1). This makes them suitable for tasks that require frequent data updates.\n",
    "\n",
    "\n",
    "\n"
   ]
  },
  {
   "cell_type": "markdown",
   "metadata": {},
   "source": [
    "Q.12 Describe a scenario where using a tuple would be preferable over a list.\n",
    "\n",
    "Tuples vs Lists: Choosing the Right Data Structure\n",
    "\n",
    "In Python, both tuples and lists are data structures that can store multiple values. However, there are scenarios where using a tuple would be preferable over a list.\n",
    "\n",
    "Scenario: Representing Immutable Data\n",
    "\n",
    "Suppose we're working on a program that deals with dates. We want to represent a date as a collection of values (year, month, day). In this case, using a tuple would be preferable over a list because:\n",
    "\n",
    "1.immutability\n",
    "\n",
    "2.hashability\n",
    "\n",
    "3.code readability\n",
    "\n",
    "\n"
   ]
  },
  {
   "cell_type": "markdown",
   "metadata": {},
   "source": [
    "Q.13 How do sets handle duplicate values in Python.\n",
    "\n",
    "In Python, sets are an unordered collection of unique elements. When it comes to handling duplicate values, sets automatically eliminate them, ensuring that each element in the set is unique.\n",
    "\n",
    "1. Union and Intersection Operations: When performing union or intersection operations on sets, duplicates are eliminated in the resulting set.\n",
    "\n"
   ]
  },
  {
   "cell_type": "code",
   "execution_count": 7,
   "metadata": {},
   "outputs": [
    {
     "name": "stdout",
     "output_type": "stream",
     "text": [
      "intersection {3, 4}\n",
      "union {1, 2, 3, 4, 6}\n"
     ]
    }
   ],
   "source": [
    "set1={1,2,3,4}\n",
    "set2={6,4,3}\n",
    "print(\"intersection\",set1&set2)\n",
    "print(\"union\",set1| set2)\n"
   ]
  },
  {
   "cell_type": "markdown",
   "metadata": {},
   "source": [
    "Q.14 How does the “in” keyword work differently for lists and dictionaries.\n",
    "\n",
    "The \"in\" keyword in Python is used to check if a value exists in a sequence (such as a list, tuple, or string) or a collection (such as a dictionary or set). However, the \"in\" keyword works differently for lists and dictionaries.\n",
    "\n",
    "list:-For lists, the \"in\" keyword checks if a value exists as an element in the list. It returns True if the value is found, and False otherwise.\n",
    "\n",
    "\n",
    "Dictionary:-For dictionaries, the \"in\" keyword checks if a key exists in the dictionary. It returns True if the key is found, and False otherwise. Note that the \"in\" keyword does not check for values in dictionaries, only keys.\n",
    "\n"
   ]
  },
  {
   "cell_type": "code",
   "execution_count": 8,
   "metadata": {},
   "outputs": [
    {
     "name": "stdout",
     "output_type": "stream",
     "text": [
      "True\n",
      "False\n",
      "True\n",
      "False\n"
     ]
    }
   ],
   "source": [
    "#list example\n",
    "list=[1,2,3,4,5]\n",
    "print(3 in list)  # Output: True\n",
    "print(6 in list)  # Output: False\n",
    "\n",
    "#dictionry example\n",
    "my_dict = {\"name\": \"John\", \"age\": 30}\n",
    "print(\"name\" in my_dict)  # Output: True\n",
    "print(\"city\" in my_dict)  # Output: False\n",
    "\n",
    "\n",
    "\n",
    "\n",
    "\n",
    "\n"
   ]
  },
  {
   "cell_type": "markdown",
   "metadata": {},
   "source": [
    "Q.15 Can you modify the elements of a tuple? Explain why or why not.\n",
    "\n",
    "No, you cannot modify the elements of a tuple in Python. Tuples are immutable, meaning their contents cannot be changed after creation.\n",
    "\n",
    "Why Tuples Are Immutable:\n",
    "\n",
    "1. Design Choice: Tuples were designed to be immutable to provide a way to store a collection of objects that cannot be changed.\n",
    "\n",
    "2. Performance: Immutable tuples can be optimized for performance, as their contents are known at creation time.\n",
    "\n",
    "3. Thread Safety: Immutable tuples are thread-safe, meaning multiple threads can access the same tuple without fear of data corruption.\n",
    "\n",
    "\n",
    "\n",
    "\n",
    "\n"
   ]
  },
  {
   "cell_type": "markdown",
   "metadata": {},
   "source": [
    "Q.16 What is a nested dictionary, and give an example of its use case\n",
    "\n",
    "A nested dictionary is a dictionary that contains another dictionary as its value. Nested dictionaries are useful for storing complex, hierarchical data structures.\n"
   ]
  },
  {
   "cell_type": "code",
   "execution_count": 10,
   "metadata": {},
   "outputs": [
    {
     "name": "stdout",
     "output_type": "stream",
     "text": [
      "9\n",
      "['History', 'Foreign Language', 'Art']\n"
     ]
    }
   ],
   "source": [
    "\n",
    "\n",
    "# Create a nested dictionary\n",
    "students = {\n",
    "    \"John\": {\n",
    "        \"grade\": 9,\n",
    "        \"courses\": [\"Math\", \"Science\", \"English\"]\n",
    "    },\n",
    "    \"Jane\": {\n",
    "        \"grade\": 10,\n",
    "        \"courses\": [\"History\", \"Foreign Language\", \"Art\"]\n",
    "    },\n",
    "    \"Bob\": {\n",
    "        \"grade\": 11,\n",
    "        \"courses\": [\"Physics\", \"Chemistry\",\"biology\"]\n",
    "    }\n",
    "}\n",
    "print(students[\"John\"][\"grade\"])  # Output: 9\n",
    "print(students[\"Jane\"][\"courses\"])  # Output: [\"History\", \"Foreign Language\", \"Art\"]\n",
    "\n"
   ]
  },
  {
   "cell_type": "markdown",
   "metadata": {},
   "source": [
    "Q.17 Describe the time complexity of accessing elements in a dictionary.\n",
    "\n",
    "Dictionaries in Python are implemented as hash tables, which provide fast lookups, insertions, and deletions. When you access an element in a dictionary, Python uses the hash value of the key to determine the location of the corresponding value in the hash table.\n"
   ]
  },
  {
   "cell_type": "markdown",
   "metadata": {},
   "source": [
    "Q.18 In what situations are lists preferred over dictionaries.\n",
    "\n",
    " lists are preferred over dictionaries in situations where order matters, index-based access is required, data is homogeneous, or data needs to be mutated.\n",
    "\n"
   ]
  },
  {
   "cell_type": "markdown",
   "metadata": {},
   "source": [
    "Q.19 Why are dictionaries considered unordered, and how does that affect data retrieval.\n",
    "\n",
    " dictionaries are considered unordered because their implementation as hash tables stores key-value pairs in an arbitrary order. This affects data retrieval, as the order in which key-value pairs are returned is not guaranteed.\n"
   ]
  },
  {
   "cell_type": "markdown",
   "metadata": {},
   "source": [
    "Q.20 Explain the difference between a list and a dictionary in terms of data retrieval.\n",
    "\n",
    " lists and dictionaries differ in their data retrieval mechanisms, with lists using index-based retrieval and dictionaries using key-based retrieval. While lists maintain the order of elements, dictionaries are unordered. Both data structures provide fast lookup, but are optimized for different use cases.\n"
   ]
  },
  {
   "cell_type": "markdown",
   "metadata": {},
   "source": [
    "                    practics Question"
   ]
  },
  {
   "cell_type": "markdown",
   "metadata": {},
   "source": [
    "Q.1 Write a code to create a string with your name and print it.\n"
   ]
  },
  {
   "cell_type": "code",
   "execution_count": 1,
   "metadata": {},
   "outputs": [
    {
     "name": "stdout",
     "output_type": "stream",
     "text": [
      "my name is  Bhumika\n"
     ]
    }
   ],
   "source": [
    "name=\"Bhumika\"\n",
    "print(\"my name is \",name)"
   ]
  },
  {
   "cell_type": "markdown",
   "metadata": {},
   "source": [
    "Q.2 Write a code to find the length of the string \"Hello World\".\n"
   ]
  },
  {
   "cell_type": "code",
   "execution_count": 2,
   "metadata": {},
   "outputs": [
    {
     "name": "stdout",
     "output_type": "stream",
     "text": [
      "11\n"
     ]
    }
   ],
   "source": [
    "name=\"hello World\"\n",
    "print(len(name))"
   ]
  },
  {
   "cell_type": "markdown",
   "metadata": {},
   "source": [
    "Q.3Write a code to slice the first 3 characters from the string \"Python Programming\"\n"
   ]
  },
  {
   "cell_type": "code",
   "execution_count": 3,
   "metadata": {},
   "outputs": [
    {
     "name": "stdout",
     "output_type": "stream",
     "text": [
      "pyt\n"
     ]
    }
   ],
   "source": [
    "name=\"python Programming\"\n",
    "print(name[:3])"
   ]
  },
  {
   "cell_type": "markdown",
   "metadata": {},
   "source": [
    "Q.4Write a code to convert the string \"hello\" to uppercase.\n"
   ]
  },
  {
   "cell_type": "code",
   "execution_count": 5,
   "metadata": {},
   "outputs": [
    {
     "data": {
      "text/plain": [
       "'HELLO'"
      ]
     },
     "execution_count": 5,
     "metadata": {},
     "output_type": "execute_result"
    }
   ],
   "source": [
    "str=\"hello\"\n",
    "str.upper()"
   ]
  },
  {
   "cell_type": "markdown",
   "metadata": {},
   "source": [
    "Q.5 Write a code to replace the word \"apple\" with \"orange\" in the string \"I like apple\".\n"
   ]
  },
  {
   "cell_type": "code",
   "execution_count": 6,
   "metadata": {},
   "outputs": [
    {
     "name": "stdout",
     "output_type": "stream",
     "text": [
      "I like Orange\n"
     ]
    }
   ],
   "source": [
    "str=\"I like apple\"\n",
    "replace=str.replace(\"apple\",\"Orange\")\n",
    "print(replace)"
   ]
  },
  {
   "cell_type": "markdown",
   "metadata": {},
   "source": [
    "Q.6 Write a code to create a list with numbers 1 to 5 and print it.\n"
   ]
  },
  {
   "cell_type": "code",
   "execution_count": 7,
   "metadata": {},
   "outputs": [
    {
     "name": "stdout",
     "output_type": "stream",
     "text": [
      "1\n",
      "2\n",
      "3\n",
      "4\n",
      "5\n"
     ]
    }
   ],
   "source": [
    "list=[1,2,3,4,5]\n",
    "for i in list:\n",
    "    print(i)"
   ]
  },
  {
   "cell_type": "markdown",
   "metadata": {},
   "source": [
    "Q.7 Write a code to append the number 10 to the list [1, 2, 3, 4].\n"
   ]
  },
  {
   "cell_type": "code",
   "execution_count": 8,
   "metadata": {},
   "outputs": [
    {
     "name": "stdout",
     "output_type": "stream",
     "text": [
      "[1, 2, 3, 4, 10]\n"
     ]
    }
   ],
   "source": [
    "list=[1,2,3,4]\n",
    "list.append(10)\n",
    "print(list)"
   ]
  },
  {
   "cell_type": "markdown",
   "metadata": {},
   "source": [
    "Q.8 Write a code to remove the number 3 from the list [1, 2, 3, 4, 5].\n"
   ]
  },
  {
   "cell_type": "code",
   "execution_count": 9,
   "metadata": {},
   "outputs": [
    {
     "name": "stdout",
     "output_type": "stream",
     "text": [
      "[1, 2, 4, 5]\n"
     ]
    }
   ],
   "source": [
    "list=[1,2,3,4,5]\n",
    "list.remove(3)\n",
    "print(list)"
   ]
  },
  {
   "cell_type": "markdown",
   "metadata": {},
   "source": [
    "Q.9 Write a code to access the second element in the list ['a', 'b', 'c', 'd'].\n"
   ]
  },
  {
   "cell_type": "code",
   "execution_count": 10,
   "metadata": {},
   "outputs": [
    {
     "name": "stdout",
     "output_type": "stream",
     "text": [
      "b\n"
     ]
    }
   ],
   "source": [
    "list=['a','b','c','d']\n",
    "second_element=list[1]\n",
    "print(second_element)"
   ]
  },
  {
   "cell_type": "markdown",
   "metadata": {},
   "source": [
    "Q.10 Write a code to reverse the list [10, 20, 30, 40, 50]."
   ]
  },
  {
   "cell_type": "code",
   "execution_count": 11,
   "metadata": {},
   "outputs": [
    {
     "data": {
      "text/plain": [
       "[50, 40, 30, 20, 10]"
      ]
     },
     "execution_count": 11,
     "metadata": {},
     "output_type": "execute_result"
    }
   ],
   "source": [
    "list=[10,20,30,40,50]\n",
    "list.reverse()\n",
    "list"
   ]
  },
  {
   "cell_type": "markdown",
   "metadata": {},
   "source": [
    "Q.11. Write a code to create a tuple with the elements 100, 200, 300 and print it."
   ]
  },
  {
   "cell_type": "code",
   "execution_count": 13,
   "metadata": {},
   "outputs": [
    {
     "name": "stdout",
     "output_type": "stream",
     "text": [
      "tuple:- (100, 200, 300)\n"
     ]
    }
   ],
   "source": [
    "tuple=(100,200,300)\n",
    "print(\"tuple:-\",tuple)"
   ]
  },
  {
   "cell_type": "markdown",
   "metadata": {},
   "source": [
    "Q.12. Write a code to access the second-to-last element of the tuple ('red', 'green', 'blue', 'yellow')."
   ]
  },
  {
   "cell_type": "code",
   "execution_count": 15,
   "metadata": {},
   "outputs": [
    {
     "name": "stdout",
     "output_type": "stream",
     "text": [
      "blue\n"
     ]
    }
   ],
   "source": [
    "tuple=('red','green','blue','yellow')\n",
    "second_last_elemet=tuple[-2]\n",
    "print(second_last_elemet)"
   ]
  },
  {
   "cell_type": "markdown",
   "metadata": {},
   "source": [
    "Q.13. Write a code to find the minimum number in the tuple (10, 20, 5, 15)."
   ]
  },
  {
   "cell_type": "code",
   "execution_count": 19,
   "metadata": {},
   "outputs": [
    {
     "name": "stdout",
     "output_type": "stream",
     "text": [
      "5\n"
     ]
    }
   ],
   "source": [
    "tuple=(10,20,5,15)\n",
    "minimum=min(tuple)\n",
    "print(minimum)"
   ]
  },
  {
   "cell_type": "markdown",
   "metadata": {},
   "source": [
    "Q.14. Write a code to find the index of the element \"cat\" in the tuple ('dog', 'cat', 'rabbit')."
   ]
  },
  {
   "cell_type": "code",
   "execution_count": 20,
   "metadata": {},
   "outputs": [
    {
     "name": "stdout",
     "output_type": "stream",
     "text": [
      "1\n"
     ]
    }
   ],
   "source": [
    "tuple=('dog','cat','rabbit')\n",
    "index=tuple.index(\"cat\")\n",
    "print(index)"
   ]
  },
  {
   "cell_type": "markdown",
   "metadata": {},
   "source": [
    "Q.15. Write a code to create a tuple containing three different fruits and check if \"kiwi\" is in it."
   ]
  },
  {
   "cell_type": "code",
   "execution_count": null,
   "metadata": {},
   "outputs": [
    {
     "name": "stdout",
     "output_type": "stream",
     "text": [
      "kiwi is present\n"
     ]
    }
   ],
   "source": [
    "fruit=('apple','banna','kiwi') \n",
    "if \"kiwi\" in fruit:\n",
    "        print(\"kiwi is present\")\n",
    "else:   \n",
    "        print(\"not present\")"
   ]
  },
  {
   "cell_type": "markdown",
   "metadata": {},
   "source": [
    "Q.16. Write a code to create a set with the elements 'a', 'b', 'c' and print it."
   ]
  },
  {
   "cell_type": "code",
   "execution_count": 24,
   "metadata": {},
   "outputs": [
    {
     "name": "stdout",
     "output_type": "stream",
     "text": [
      "Set:- {'a', 'b', 'c'}\n"
     ]
    }
   ],
   "source": [
    "set={'a','b','c'}\n",
    "print(\"Set:-\",set)"
   ]
  },
  {
   "cell_type": "markdown",
   "metadata": {},
   "source": [
    "Q.17. Write a code to clear all elements from the set {1, 2, 3, 4, 5}."
   ]
  },
  {
   "cell_type": "code",
   "execution_count": 28,
   "metadata": {},
   "outputs": [
    {
     "name": "stdout",
     "output_type": "stream",
     "text": [
      "set()\n"
     ]
    }
   ],
   "source": [
    "set={1,2,3,4,5}\n",
    "set.clear()\n",
    "print(set)"
   ]
  },
  {
   "cell_type": "markdown",
   "metadata": {},
   "source": [
    "Q.18. Write a code to remove the element 4 from the set {1, 2, 3, 4}."
   ]
  },
  {
   "cell_type": "code",
   "execution_count": 29,
   "metadata": {},
   "outputs": [
    {
     "name": "stdout",
     "output_type": "stream",
     "text": [
      "{1, 2, 3}\n"
     ]
    }
   ],
   "source": [
    "set={1,2,3,4}\n",
    "set.remove(4)\n",
    "print(set)"
   ]
  },
  {
   "cell_type": "markdown",
   "metadata": {},
   "source": [
    "Q.19. Write a code to find the union of two sets {1, 2, 3} and {3, 4, 5}."
   ]
  },
  {
   "cell_type": "code",
   "execution_count": 33,
   "metadata": {},
   "outputs": [
    {
     "name": "stdout",
     "output_type": "stream",
     "text": [
      "union of  set {1, 2, 3, 4, 5}\n"
     ]
    }
   ],
   "source": [
    "s1={1,2,3}\n",
    "s2={3,4,5}\n",
    "print(\"union of  set\",s1 |s2)"
   ]
  },
  {
   "cell_type": "markdown",
   "metadata": {},
   "source": [
    "Q.20. Write a code to find the intersection of two sets {1, 2, 3} and {2, 3, 4}."
   ]
  },
  {
   "cell_type": "code",
   "execution_count": 34,
   "metadata": {},
   "outputs": [
    {
     "name": "stdout",
     "output_type": "stream",
     "text": [
      "intersection of  set {2, 3}\n"
     ]
    }
   ],
   "source": [
    "s1={1,2,3}\n",
    "s2={2,3,4}\n",
    "print(\"intersection of  set\",s1 &s2)"
   ]
  },
  {
   "cell_type": "markdown",
   "metadata": {},
   "source": [
    "Q.21. Write a code to create a dictionary with the keys \"name\", \"age\", and \"city\", and print it."
   ]
  },
  {
   "cell_type": "code",
   "execution_count": 35,
   "metadata": {},
   "outputs": [
    {
     "name": "stdout",
     "output_type": "stream",
     "text": [
      "dictornary {'name': 'bhumika', 'Age': 19, 'city': 'khargon'}\n"
     ]
    }
   ],
   "source": [
    "dict={\"name\":\"bhumika\",\n",
    "      \"Age\":19,\n",
    "      \"city\":\"khargon\"\n",
    "      }\n",
    "print(\"dictornary\",dict)"
   ]
  },
  {
   "cell_type": "markdown",
   "metadata": {},
   "source": [
    "Q.22. Write a code to add a new key-value pair \"country\": \"USA\" to the dictionary {'name': 'John', 'age': 25}."
   ]
  },
  {
   "cell_type": "code",
   "execution_count": 37,
   "metadata": {},
   "outputs": [
    {
     "name": "stdout",
     "output_type": "stream",
     "text": [
      "update dictionary  {'name': 'john', 'age': 25, 'country': 'USA'}\n"
     ]
    }
   ],
   "source": [
    "dict={\"name\":'john',\n",
    "      \"age\":25}\n",
    "dict[\"country\"]=\"USA\"\n",
    "print(\"update dictionary \",dict)"
   ]
  },
  {
   "cell_type": "markdown",
   "metadata": {},
   "source": [
    "Q.23. Write a code to access the value associated with the key \"name\" in the dictionary {'name': 'Alice', 'age': 30}."
   ]
  },
  {
   "cell_type": "code",
   "execution_count": 39,
   "metadata": {},
   "outputs": [
    {
     "data": {
      "text/plain": [
       "'Alice'"
      ]
     },
     "execution_count": 39,
     "metadata": {},
     "output_type": "execute_result"
    }
   ],
   "source": [
    "dict={'name':'Alice',\n",
    "      'Age':30}\n",
    "dict[\"name\"]"
   ]
  },
  {
   "cell_type": "markdown",
   "metadata": {},
   "source": [
    "Q.24. Write a code to remove the key \"age\" from the dictionary {'name': 'Bob', 'age': 22, 'city': 'New York'}."
   ]
  },
  {
   "cell_type": "code",
   "execution_count": 44,
   "metadata": {},
   "outputs": [
    {
     "name": "stdout",
     "output_type": "stream",
     "text": [
      "{'name': 'Bob', 'city': 'New York'}\n"
     ]
    }
   ],
   "source": [
    "dictionary ={'name': 'Bob', 'age': 22, 'city': 'New York'}\n",
    "del dictionary[\"age\"]\n",
    "print(dictionary)"
   ]
  },
  {
   "cell_type": "markdown",
   "metadata": {},
   "source": [
    "Q.25. Write a code to check if the key \"city\" exists in the dictionary {'name': 'Alice', 'city': 'Paris'}."
   ]
  },
  {
   "cell_type": "code",
   "execution_count": 45,
   "metadata": {},
   "outputs": [
    {
     "name": "stdout",
     "output_type": "stream",
     "text": [
      "city is present in dictionary\n"
     ]
    }
   ],
   "source": [
    "dictionary= {'name': 'Alice', 'city': 'Paris'}\n",
    "if \"city\" in dictionary:\n",
    "    print(\"city is present in dictionary\")\n",
    "else:\n",
    "    print(\"city is not present in dictionary\")    "
   ]
  },
  {
   "cell_type": "markdown",
   "metadata": {},
   "source": [
    "q.26. Write a code to create a list, a tuple, and a dictionary, and print them all."
   ]
  },
  {
   "cell_type": "code",
   "execution_count": 46,
   "metadata": {},
   "outputs": [
    {
     "name": "stdout",
     "output_type": "stream",
     "text": [
      "list [1, 2, 3, 4, 5]\n",
      "tuple ('appple', 'banna', 'kiwi', 1)\n",
      "dictionary {'name': 'bhumi', 'age': '19'}\n"
     ]
    }
   ],
   "source": [
    "list=[1,2,3,4,5]\n",
    "tuple=(\"appple\",\"banna\",\"kiwi\",1)\n",
    "dict={\"name\":\"bhumi\",\"age\":\"19\"}\n",
    "print(\"list\",list)\n",
    "print(\"tuple\",tuple)\n",
    "print(\"dictionary\",dict)"
   ]
  },
  {
   "cell_type": "markdown",
   "metadata": {},
   "source": [
    "Q.27. Write a code to create a list of 5 random numbers between 1 and 100, sort it in ascending order, and print the result.(replaced)\n"
   ]
  },
  {
   "cell_type": "code",
   "execution_count": 48,
   "metadata": {},
   "outputs": [
    {
     "name": "stdout",
     "output_type": "stream",
     "text": [
      "random numbers [63, 99, 71, 59, 64]\n",
      "random sorted numbers [59, 63, 64, 71, 99]\n"
     ]
    }
   ],
   "source": [
    "import random\n",
    "random_number=[random.randint(1,100)for _ in range (5)]\n",
    "print(\"random numbers\",random_number)\n",
    "random_number.sort()\n",
    "print(\"random sorted numbers\",random_number)"
   ]
  },
  {
   "cell_type": "markdown",
   "metadata": {},
   "source": [
    "Q.28. Write a code to create a list with strings and print the element at the third index."
   ]
  },
  {
   "cell_type": "code",
   "execution_count": 49,
   "metadata": {},
   "outputs": [
    {
     "name": "stdout",
     "output_type": "stream",
     "text": [
      "element at third index : graps\n"
     ]
    }
   ],
   "source": [
    "fruit=[\"apple\",\"banna\",\"graps\",\"cherry\"]\n",
    "print(\"element at third index :\",fruit[2])"
   ]
  },
  {
   "cell_type": "markdown",
   "metadata": {},
   "source": [
    "Q.29. Write a code to combine two dictionaries into one and print the result."
   ]
  },
  {
   "cell_type": "code",
   "execution_count": 52,
   "metadata": {},
   "outputs": [
    {
     "name": "stdout",
     "output_type": "stream",
     "text": [
      "comibing two dictionary {'name': 'ram', 'age': 38, 'sub': 'maths', 'course': 'Data Science'}\n"
     ]
    }
   ],
   "source": [
    "dic1={\"name\":\"ram\",\"age\":38}\n",
    "dic2={\"sub\":\"maths\",\"course\":\"Data Science\"}\n",
    "dictionary={**dic1,**dic2}\n",
    "print(\"comibing two dictionary\",dictionary)\n"
   ]
  },
  {
   "cell_type": "markdown",
   "metadata": {},
   "source": [
    "Q.30. Write a code to convert a list of strings into a set."
   ]
  },
  {
   "cell_type": "code",
   "execution_count": 11,
   "metadata": {},
   "outputs": [
    {
     "name": "stdout",
     "output_type": "stream",
     "text": [
      "{'shaym', 'ram', 'sai'}\n"
     ]
    }
   ],
   "source": [
    "list=[\"ram\",\"sai\",\"shaym\"]\n",
    "sets=set(list)\n",
    "print(sets)"
   ]
  }
 ],
 "metadata": {
  "kernelspec": {
   "display_name": "Python 3",
   "language": "python",
   "name": "python3"
  },
  "language_info": {
   "codemirror_mode": {
    "name": "ipython",
    "version": 3
   },
   "file_extension": ".py",
   "mimetype": "text/x-python",
   "name": "python",
   "nbconvert_exporter": "python",
   "pygments_lexer": "ipython3",
   "version": "3.13.0"
  }
 },
 "nbformat": 4,
 "nbformat_minor": 2
}
